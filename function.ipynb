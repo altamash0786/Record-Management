{
  "nbformat": 4,
  "nbformat_minor": 0,
  "metadata": {
    "colab": {
      "provenance": [],
      "authorship_tag": "ABX9TyMBIMtmdBdTrsdJmAS2ek89",
      "include_colab_link": true
    },
    "kernelspec": {
      "name": "python3",
      "display_name": "Python 3"
    },
    "language_info": {
      "name": "python"
    }
  },
  "cells": [
    {
      "cell_type": "markdown",
      "metadata": {
        "id": "view-in-github",
        "colab_type": "text"
      },
      "source": [
        "<a href=\"https://colab.research.google.com/github/altamash0786/Record-Management/blob/master/function.ipynb\" target=\"_parent\"><img src=\"https://colab.research.google.com/assets/colab-badge.svg\" alt=\"Open In Colab\"/></a>"
      ]
    },
    {
      "cell_type": "code",
      "execution_count": 2,
      "metadata": {
        "colab": {
          "base_uri": "https://localhost:8080/"
        },
        "id": "bCi5T3cNHvU8",
        "outputId": "fb5827e7-e6e9-45c6-c3e1-99f6b5450247"
      },
      "outputs": [
        {
          "output_type": "stream",
          "name": "stdout",
          "text": [
            "Enter first number: 25\n",
            "Enter oprator(+,-,*,/): *\n",
            "Enter second number: 5\n",
            "25.0*5.0 = 125.0\n"
          ]
        }
      ],
      "source": [
        "# calculator using functions\n",
        "def add(x,y):\n",
        "    return x+y\n",
        "def substract(x,y):\n",
        "    return x-y\n",
        "def multiply(x,y):\n",
        "    return x*y\n",
        "def divide(x,y):\n",
        "    return x/y\n",
        "\n",
        "def calculator():\n",
        "    num1 = float(input(\"Enter first number: \"))\n",
        "    oprator = input(\"Enter oprator(+,-,*,/): \")\n",
        "    num2 = float(input(\"Enter second number: \"))\n",
        "\n",
        "    if oprator == '+':\n",
        "      print(f\"{num1}+{num2} = {add(num1,num2)}\")\n",
        "    elif oprator == '-':\n",
        "      print(f\"{num1}-{num2} = {substract(num1,num2)}\")\n",
        "    elif oprator == '*':\n",
        "      print(f\"{num1}*{num2} = {multiply(num1,num2)}\")\n",
        "    elif oprator == '/':\n",
        "      print(f\"{num1}/{num2} = {divide(num1,num2)}\")\n",
        "    else:\n",
        "      print(\"Invalid oprator! please choose valid oprater: \")\n",
        "\n",
        "calculator()\n",
        "\n",
        "\n",
        "\n"
      ]
    },
    {
      "cell_type": "code",
      "source": [
        "#quiz program using functions\n",
        "def ask_question(question, answer):\n",
        "  user_answer = input(question +\" \")\n",
        "  return user_answer.lower() == answer.lower()\n",
        "\n",
        "def quize():\n",
        "  score = 0\n",
        "\n",
        "  if ask_question(\"What is the capital of India?\",\"New delhi\"):\n",
        "    score +=1\n",
        "  if ask_question(\"What is 2 + 4?\",\"6\"):\n",
        "    score +=1\n",
        "  if ask_question(\"Who is the prime minister of india?\",\"Narender modi\"):\n",
        "    score +=1\n",
        "  if ask_question(\"Hottest planet in our solar system?\",\"Venus\"):\n",
        "    score +=1\n",
        "\n",
        "  print(f\"Your score is:{score}/4\")\n",
        "quize()"
      ],
      "metadata": {
        "colab": {
          "base_uri": "https://localhost:8080/"
        },
        "id": "uGfybHCzH3o5",
        "outputId": "be55fbec-a405-4eed-c5ab-0b4849585815"
      },
      "execution_count": 7,
      "outputs": [
        {
          "output_type": "stream",
          "name": "stdout",
          "text": [
            "What is the capital of India? new delhi\n",
            "What is 2 + 4? 6\n",
            "Who is the prime minister of india? narender modi\n",
            "Hottest planet in our solar system? venus\n",
            "Your score is:4/4\n"
          ]
        }
      ]
    }
  ]
}