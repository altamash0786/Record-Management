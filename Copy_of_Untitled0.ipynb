{
  "nbformat": 4,
  "nbformat_minor": 0,
  "metadata": {
    "colab": {
      "provenance": [],
      "authorship_tag": "ABX9TyMzTKMtjDHSFmDBM1/epGnA",
      "include_colab_link": true
    },
    "kernelspec": {
      "name": "python3",
      "display_name": "Python 3"
    },
    "language_info": {
      "name": "python"
    }
  },
  "cells": [
    {
      "cell_type": "markdown",
      "metadata": {
        "id": "view-in-github",
        "colab_type": "text"
      },
      "source": [
        "<a href=\"https://colab.research.google.com/github/altamash0786/Record-Management/blob/master/Copy_of_Untitled0.ipynb\" target=\"_parent\"><img src=\"https://colab.research.google.com/assets/colab-badge.svg\" alt=\"Open In Colab\"/></a>"
      ]
    },
    {
      "cell_type": "markdown",
      "source": [
        "Assignment No-01"
      ],
      "metadata": {
        "id": "TDFWE-JVF4lf"
      }
    },
    {
      "cell_type": "code",
      "source": [
        "# Question - 01\n",
        "print(\"Arvind\")\n",
        "print(\"Age: 24\")"
      ],
      "metadata": {
        "colab": {
          "base_uri": "https://localhost:8080/"
        },
        "id": "VR98IN06GBbN",
        "outputId": "5ba96ea0-f268-4192-e309-eec366c063ae"
      },
      "execution_count": null,
      "outputs": [
        {
          "output_type": "stream",
          "name": "stdout",
          "text": [
            "Arvind\n",
            "Age: 24\n"
          ]
        }
      ]
    },
    {
      "cell_type": "code",
      "source": [
        "# Question - 02\n",
        "#Line shape using \"|\"\n",
        "print(\"|\")\n",
        "print(\"|\")\n",
        "print(\"|\")\n",
        "\n",
        "#Horizontal line using \"-\"\n",
        "print(\"----------\")\n",
        "\n",
        "#Right angle traingle using \"/\",\"|\",\"-\"\n",
        "print(\"    /|\")\n",
        "print(\"   / |\")\n",
        "print(\"  /  |\")\n",
        "print(\" /---|\")\n",
        "\n",
        "# Cross shape using \"/\" & \"\\\"\n",
        "print(\" /\\\\\")\n",
        "print(\"/  \\\\\")\n",
        "print(\"\\\\  /\")\n",
        "print(\" \\\\/\")\n",
        "\n",
        "\n"
      ],
      "metadata": {
        "colab": {
          "base_uri": "https://localhost:8080/"
        },
        "id": "vnoZkre6Gd3s",
        "outputId": "055a455b-b99e-441f-b196-c74b7423cde0"
      },
      "execution_count": null,
      "outputs": [
        {
          "output_type": "stream",
          "name": "stdout",
          "text": [
            "|\n",
            "|\n",
            "|\n",
            "----------\n",
            "    /|\n",
            "   / |\n",
            "  /  |\n",
            " /---|\n",
            " /\\\n",
            "/  \\\n",
            "\\  /\n",
            " \\/\n"
          ]
        }
      ]
    },
    {
      "cell_type": "code",
      "source": [
        "# Question - 03\n",
        "print(\"Avinash\\nRehan\\nDanish\\nAyan\\nSubham\")"
      ],
      "metadata": {
        "colab": {
          "base_uri": "https://localhost:8080/"
        },
        "id": "caa_W2rMKBbW",
        "outputId": "0e71c044-e4b8-40c4-9644-70a71283096d"
      },
      "execution_count": null,
      "outputs": [
        {
          "output_type": "stream",
          "name": "stdout",
          "text": [
            "Avinash\n",
            "Rehan\n",
            "Danish\n",
            "Ayan\n",
            "Subham\n"
          ]
        }
      ]
    },
    {
      "cell_type": "code",
      "source": [
        "# Question - 04\n",
        "#python program to generate an Essay using input\n",
        "name = input(\"What is your name? \")\n",
        "age = input(\"How old are you? \")\n",
        "address = input(\"Where do you live? \")\n",
        "hobby = input(\"What is your favorite hobby? \")\n",
        "dream = input(\"What is your dream in life? \")\n",
        "family = input(\"How many member in your family? \")\n",
        "essay = f\"My name is {name}. I am {age} years old. I live in {address}. \"\\\n",
        "        f\"In my free time, I enjoy {hobby}. My dream is to {dream}.I have {family} member in my family. \"\\\n",
        "        f\"I believe with hard work and dedication, I can achieve anything I set my mind to.\"\n",
        "\n",
        "\n",
        "print(\"\\nHere is your essay:\\n\")\n",
        "print(essay)\n"
      ],
      "metadata": {
        "colab": {
          "base_uri": "https://localhost:8080/"
        },
        "id": "efs1rmRfKb9y",
        "outputId": "007ef2eb-4e6a-470f-a2cb-7cc526b40405"
      },
      "execution_count": null,
      "outputs": [
        {
          "output_type": "stream",
          "name": "stdout",
          "text": [
            "What is your name? Nidhi\n",
            "How old are you? 23\n",
            "Where do you live? Kolkata, WB\n",
            "What is your favorite hobby? Singing a song\n",
            "What is your dream in life? Software engineer\n",
            "How many member in your family? 5\n",
            "\n",
            "Here is your essay:\n",
            "\n",
            "My name is Nidhi. I am 23 years old. I live in Kolkata, WB. In my free time, I enjoy Singing a song. My dream is to Software engineer.I have 5 member in my family. I believe with hard work and dedication, I can achieve anything I set my mind to.\n"
          ]
        }
      ]
    },
    {
      "cell_type": "code",
      "source": [
        "#Question - 04\n",
        "#Python program to create a simple chatbot\n",
        "print(\"Hi, I am a chatbot. What is your name?\")\n",
        "name = input(\">> \")\n",
        "\n",
        "print(f\"Oh, {name}, in which grade are you right now?\")\n",
        "grade = input(\">> \")\n",
        "\n",
        "print(f\"{name}, you are in {grade}th grade. Can I ask you one question? Yes or no?\")\n",
        "permission = input(\">> \")\n",
        "\n",
        "print(\"Tell me, what is 1024 + 98?\")\n",
        "answer = input(\">> \")\n",
        "\n",
        "print(\"Good! Your answer is recorded. Bye!\")"
      ],
      "metadata": {
        "colab": {
          "base_uri": "https://localhost:8080/"
        },
        "id": "DbhU2CoZOaA5",
        "outputId": "86d3d973-f0be-4f66-fa90-c20513883a5e"
      },
      "execution_count": null,
      "outputs": [
        {
          "output_type": "stream",
          "name": "stdout",
          "text": [
            "Hi, I am a chatbot. What is your name?\n",
            ">> Nidhi\n",
            "Oh, Nidhi, in which grade are you right now?\n",
            ">> A\n",
            "Nidhi, you are in Ath grade. Can I ask you one question? Yes or no?\n",
            ">> yes\n",
            "Tell me, what is 1024 + 98?\n",
            ">> 1123\n",
            "Good! Your answer is recorded. Bye!\n"
          ]
        }
      ]
    },
    {
      "cell_type": "code",
      "source": [
        "#Question - 05\n",
        "notebook_cost = int(input(\"Enter the cost of a notebook is: \"))\n",
        "number_of_notebooks = int(input(\"Enter the number of notebooks you want to buy: \"))\n",
        "total_amount = number_of_notebooks * notebook_cost\n",
        "print(f\"The total amount to be paid is: ${total_amount}\")"
      ],
      "metadata": {
        "colab": {
          "base_uri": "https://localhost:8080/"
        },
        "id": "SWiKHXgLPtY9",
        "outputId": "d3b2c621-b002-4f14-c081-02465781c9b9"
      },
      "execution_count": null,
      "outputs": [
        {
          "output_type": "stream",
          "name": "stdout",
          "text": [
            "Enter the cost of a notebook is: 4\n",
            "Enter the number of notebooks you want to buy: 10\n",
            "The total amount to be paid is: $40\n"
          ]
        }
      ]
    },
    {
      "cell_type": "code",
      "source": [
        "#Question - 06\n",
        "#Write a program add, sub, mult, div between two number\n",
        "num1 = float(input(\"Enter first number: \"))\n",
        "num2 = float(input(\"Enter second number: \"))\n",
        "\n",
        "addition = num1 + num2\n",
        "print(f\"Addition: {num1} + {num2} = {addition}\")\n",
        "\n",
        "subtraction = num1 - num2\n",
        "print(f\"Subtraction: {num1} - {num2} = {subtraction}\")\n",
        "\n",
        "multiplication = num1 * num2\n",
        "print(f\"Multiplication: {num1} * {num2} = {multiplication}\")\n",
        "\n",
        "division = num1 / num2\n",
        "print(f\"Division: {num1} / {num2} = {division}\")"
      ],
      "metadata": {
        "colab": {
          "base_uri": "https://localhost:8080/"
        },
        "id": "sMImcks9R1tC",
        "outputId": "40480fdd-5d62-40d7-a520-907aebd96443"
      },
      "execution_count": null,
      "outputs": [
        {
          "output_type": "stream",
          "name": "stdout",
          "text": [
            "Enter first number: 10\n",
            "Enter second number: 2\n",
            "Addition: 10.0 + 2.0 = 12.0\n",
            "Subtraction: 10.0 - 2.0 = 8.0\n",
            "Multiplication: 10.0 * 2.0 = 20.0\n",
            "Division: 10.0 / 2.0 = 5.0\n"
          ]
        }
      ]
    },
    {
      "cell_type": "code",
      "source": [
        "# question - 06\n",
        "# write a program to find your age and help your classmates their age:\n",
        "birth_year = int(input(\"Enter your birth year: \"))\n",
        "\n",
        "current_year = 2024\n",
        "\n",
        "age = current_year - birth_year\n",
        "\n",
        "print(f\"Your age is: {age} year\")"
      ],
      "metadata": {
        "colab": {
          "base_uri": "https://localhost:8080/"
        },
        "id": "rGSxgsYGSWDE",
        "outputId": "d3f4d83a-c087-41c3-fd55-fa34dd1f248d"
      },
      "execution_count": null,
      "outputs": [
        {
          "output_type": "stream",
          "name": "stdout",
          "text": [
            "Enter your birth year: 2000\n",
            "Your age is: 24 year\n"
          ]
        }
      ]
    }
  ]
}