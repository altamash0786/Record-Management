{
  "nbformat": 4,
  "nbformat_minor": 0,
  "metadata": {
    "colab": {
      "provenance": [],
      "authorship_tag": "ABX9TyMlqtGeis97Bkm1xDDX3Z/C",
      "include_colab_link": true
    },
    "kernelspec": {
      "name": "python3",
      "display_name": "Python 3"
    },
    "language_info": {
      "name": "python"
    }
  },
  "cells": [
    {
      "cell_type": "markdown",
      "metadata": {
        "id": "view-in-github",
        "colab_type": "text"
      },
      "source": [
        "<a href=\"https://colab.research.google.com/github/altamash0786/Record-Management/blob/master/Untitled3.ipynb\" target=\"_parent\"><img src=\"https://colab.research.google.com/assets/colab-badge.svg\" alt=\"Open In Colab\"/></a>"
      ]
    },
    {
      "cell_type": "code",
      "execution_count": 2,
      "metadata": {
        "colab": {
          "base_uri": "https://localhost:8080/"
        },
        "id": "NBzA2qKdhGno",
        "outputId": "8bd9ddc1-a68f-473a-f72f-23788f67eca8"
      },
      "outputs": [
        {
          "output_type": "stream",
          "name": "stdout",
          "text": [
            "         (  )\n",
            "        (    )\n",
            "       (      )\n",
            "      (        )\n",
            "     (          )\n",
            "      ***    ***\n",
            "         |  |\n",
            "         |  |\n",
            "         |  |\n",
            "         |  |\n",
            "        //  \\\n",
            "       //     \\\n",
            "***********************\n"
          ]
        }
      ],
      "source": [
        "# Question - 01\n",
        "print(\"         (  )\")\n",
        "print(\"        (    )\")\n",
        "print(\"       (      )\")\n",
        "print(\"      (        )\")\n",
        "print(\"     (          )\")\n",
        "print(\"      ***    ***\")\n",
        "print(\"         |  |\")\n",
        "print(\"         |  |\")\n",
        "print(\"         |  |\")\n",
        "print(\"         |  |\")\n",
        "print(\"        //  \\\\\")\n",
        "print(\"       //     \\\\\")\n",
        "print(\"***********************\")"
      ]
    },
    {
      "cell_type": "code",
      "source": [
        "# Question - 02\n",
        "\n",
        "student1 = float(input(\"Enter percentage for student1: \"))\n",
        "student2 = float(input(\"Enter percentage for student2: \"))\n",
        "student3 = float(input(\"Enter percentage for student3: \"))\n",
        "student4 = float(input(\"Enter percentage for student4: \"))\n",
        "student5 = float(input(\"Enter percentage for student5: \"))\n",
        "student6 = float(input(\"Enter percentage for student6: \"))\n",
        "student7 = float(input(\"Enter percentage for student7: \"))\n",
        "student8 = float(input(\"Enter percentage for student8: \"))\n",
        "student9 = float(input(\"Enter percentage for student9: \"))\n",
        "student10 = float(input(\"Enter percentage for student10: \"))\n",
        "\n",
        "total_percentage = (student1 + student2 + student3 + student4 + student5 + student6 + student7 + student8 + student9 + student10)\n",
        "number_of_students =10\n",
        "average_percentage = total_percentage / number_of_students\n",
        "print(\"Average percentage: \",average_percentage)"
      ],
      "metadata": {
        "colab": {
          "base_uri": "https://localhost:8080/"
        },
        "id": "1USRiv9njuzY",
        "outputId": "99e89201-ba39-46ed-ad8e-3f56371369f1"
      },
      "execution_count": 3,
      "outputs": [
        {
          "output_type": "stream",
          "name": "stdout",
          "text": [
            "Enter percentage for student1: 85\n",
            "Enter percentage for student2: 96\n",
            "Enter percentage for student3: 92.67\n",
            "Enter percentage for student4: 71.89\n",
            "Enter percentage for student5: 67\n",
            "Enter percentage for student6: 73.5\n",
            "Enter percentage for student7: 55\n",
            "Enter percentage for student8: 58.12\n",
            "Enter percentage for student9: 99.23\n",
            "Enter percentage for student10: 73\n",
            "Average percentage:  77.14099999999999\n"
          ]
        }
      ]
    },
    {
      "cell_type": "code",
      "source": [
        "# Question - 3\n",
        "number = 153\n",
        "hundreds = number// 100\n",
        "tens = (number // 10)% 10\n",
        "one = number % 10\n",
        "sum_of_cubes = (hundreds ** 3) + (tens ** 3) + (one ** 3)\n",
        "if sum_of_cubes == number:\n",
        "  print(f\"{number} is an Armstrong number. \")\n",
        "else:\n",
        "  print(f\"{number} is Not Armstrong number. \")"
      ],
      "metadata": {
        "colab": {
          "base_uri": "https://localhost:8080/"
        },
        "id": "OEWtuOiElv6q",
        "outputId": "c5ffc0df-dae0-40f8-840f-639800ff0152"
      },
      "execution_count": 9,
      "outputs": [
        {
          "output_type": "stream",
          "name": "stdout",
          "text": [
            "153 is an Armstrong number. \n"
          ]
        }
      ]
    },
    {
      "cell_type": "code",
      "source": [
        "# Question - 04\n",
        "number = 24\n",
        "remainder = number % 2\n",
        "print(\"Remainder when\", number, \"is divided by 2 is: \", remainder)\n",
        "print(number,\" is Even number\")"
      ],
      "metadata": {
        "colab": {
          "base_uri": "https://localhost:8080/"
        },
        "id": "wrc_twFjpafD",
        "outputId": "a6415dac-fb1f-4ffb-dcc9-3fae767f6fc3"
      },
      "execution_count": 11,
      "outputs": [
        {
          "output_type": "stream",
          "name": "stdout",
          "text": [
            "Remainder when 24 is divided by 2 is:  0\n",
            "24  is Even number\n"
          ]
        }
      ]
    }
  ]
}